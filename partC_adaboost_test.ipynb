{
 "cells": [
  {
   "cell_type": "markdown",
   "metadata": {},
   "source": [
    "https://blog.csdn.net/kalath_aiur/article/details/105234675\n",
    "\n",
    "对于分类问题，常见的弱学习器包括：\n",
    "\n",
    "决策树：通常是深度较浅的决策树，例如单层决策树（stump）或有限深度的决策树。\n",
    "朴素贝叶斯分类器：如高斯朴素贝叶斯、多项式朴素贝叶斯等。\n",
    "支持向量机（SVM）：可以使用线性核或非线性核函数。\n",
    "k近邻分类器：基于样本之间的距离进行分类。\n",
    "逻辑回归：用于二分类问题。\n",
    "对于回归问题，常见的弱学习器包括：\n",
    "\n",
    "决策树回归器：如单层决策树回归器。\n",
    "线性回归：用于拟合线性关系。\n",
    "支持向量回归（SVR）：可以使用线性核或非线性核函数。"
   ]
  },
  {
   "cell_type": "code",
   "execution_count": null,
   "metadata": {},
   "outputs": [],
   "source": [
    "from sklearn.ensemble import AdaBoostClassifier\n",
    "import numpy as np\n",
    "\n",
    "X = np.arange(10).reshape(-1,1)\n",
    "y = np.array([1,1,1,-1,-1,-1,1,1,1,-1])\n"
   ]
  },
  {
   "cell_type": "code",
   "execution_count": 7,
   "metadata": {},
   "outputs": [
    {
     "name": "stdout",
     "output_type": "stream",
     "text": [
      "(10,) (10, 1)\n",
      "0.5 0.5\n",
      "1.5 0.4\n",
      "2.5 0.30000000000000004\n",
      "3.5 0.4\n",
      "4.5 0.5\n",
      "5.5 0.6\n",
      "6.5 0.5\n",
      "7.5 0.4\n",
      "8.5 0.30000000000000004\n",
      "9.5 0.4\n",
      "第一个弱分类器的权重为: 0.42364893019360184\n",
      "[0.07142857 0.07142857 0.07142857 0.07142857 0.07142857 0.07142857\n",
      " 0.16666667 0.16666667 0.16666667 0.07142857]\n",
      "[ 1  1  1 -1 -1 -1 -1 -1 -1 -1]\n",
      "[ 1  1  1 -1 -1 -1  1  1  1 -1]\n"
     ]
    }
   ],
   "source": [
    "from sklearn.ensemble import AdaBoostClassifier\n",
    "import numpy as np\n",
    "\n",
    "X = np.arange(10).reshape(-1,1)\n",
    "y = np.array([1,1,1,-1,-1,-1,1,1,1,-1])\n",
    "\n",
    "# w1为初始权重，所有样本的初始权重相等\n",
    "w1 = np.full(shape = 10,fill_value=0.1)\n",
    "print(w1.shape,X.shape)\n",
    "\n",
    "# 循环计算误差率，取最小值。\n",
    "thresholds = np.arange(0.5,10)\n",
    "\n",
    "for i, t in enumerate(thresholds, start = 1): \n",
    "   # print(i,t)\n",
    "\t# y_是弱分类器的预测值\n",
    "    y_ = np.array([1]*i + [-1]*(10-i))\n",
    "    print(t,((y !=y_)*w1).sum())\n",
    "\n",
    "e1 = 0.3\n",
    "a1 = 1/2*np.log((1 -e1)/e1 )\n",
    "print('第一个弱分类器的权重为:',a1)\n",
    "\n",
    "# y_为第一个弱分类器的预测结果\n",
    "y_ = np.array([1]*3 + [-1]*(10-3))\n",
    "# w2为更新后的样本权重\n",
    "w2 = w1*np.exp(-y*y_*a1)\n",
    "w2 = w2/w2.sum()\n",
    "\n",
    "print(w2)\n",
    "print(y_)\n",
    "print(y)"
   ]
  },
  {
   "cell_type": "code",
   "execution_count": 9,
   "metadata": {},
   "outputs": [
    {
     "name": "stdout",
     "output_type": "stream",
     "text": [
      "0.5 0.6428571428571428\n",
      "1.5 0.5714285714285714\n",
      "2.5 0.5\n",
      "3.5 0.5714285714285714\n",
      "4.5 0.6428571428571428\n",
      "5.5 0.7142857142857142\n",
      "6.5 0.5476190476190476\n",
      "7.5 0.38095238095238093\n",
      "8.5 0.21428571428571425\n",
      "9.5 0.28571428571428564\n",
      "第二个弱分类器的权重是： 0.6496414920651306\n",
      "[0.04545455 0.04545455 0.04545455 0.16666667 0.16666667 0.16666667\n",
      " 0.10606061 0.10606061 0.10606061 0.04545455]\n",
      "[ 1  1  1  1  1  1  1  1  1 -1]\n",
      "[ 1  1  1 -1 -1 -1  1  1  1 -1]\n"
     ]
    }
   ],
   "source": [
    "#第二个弱分类器\n",
    "thresholds = np.arange(0.5,10)\n",
    "for i,t in enumerate(thresholds, start = 1):\n",
    "    y_ = np.array([1]*i + [-1]*(10-i))\n",
    "    print(t,((y != y_)*w2).sum())\n",
    "#阈值为8.5时，误差最小\n",
    "y_ = np.array([1]*9 + [-1]*(10-9))\n",
    "e2 = ((y != y_)*w2).sum()\n",
    "a2 = 1/2*np.log((1 - e2)/e2)\n",
    "print('第二个弱分类器的权重是：',a2)\n",
    "\n",
    "y_ = np.array([1]*9 + [-1]*(10-9))\n",
    "w3 = w2*np.exp(-y*y_*a2)\n",
    "w3 = w3/w3.sum()\n",
    "\n",
    "print(w3)\n",
    "print(y_)\n",
    "print(y)"
   ]
  },
  {
   "cell_type": "code",
   "execution_count": 11,
   "metadata": {},
   "outputs": [
    {
     "name": "stdout",
     "output_type": "stream",
     "text": [
      "0.5 0.4090909090909091\n",
      "1.5 0.36363636363636365\n",
      "2.5 0.3181818181818182\n",
      "3.5 0.48484848484848486\n",
      "4.5 0.6515151515151515\n",
      "5.5 0.8181818181818181\n",
      "6.5 0.7121212121212122\n",
      "7.5 0.6060606060606061\n",
      "8.5 0.5\n",
      "9.5 0.5454545454545454\n",
      "第三个弱分类器的权重是： 0.7514278247629759\n",
      "[0.12492364 0.12492364 0.12492364 0.10191407 0.10191407 0.10191407\n",
      " 0.06485441 0.06485441 0.06485441 0.12492364]\n",
      "[-1 -1 -1 -1 -1 -1  1  1  1  1]\n",
      "[ 1  1  1 -1 -1 -1  1  1  1 -1]\n"
     ]
    }
   ],
   "source": [
    "#第3个分类器\n",
    "thresholds = np.arange(0.5,10)\n",
    "for i,t in enumerate(thresholds,start = 1): \n",
    "    y_ = np.array([1]*i + [-1]*(10-i))\n",
    "    print(t,((y !=y_)*w3).sum())\n",
    "\n",
    "e3 = 0.1820\n",
    "# 计算第三个弱分类器的权重。\n",
    "y_ = np.array([-1]*6 + [1]*(10-6))\n",
    "a3 = 1/2*np.log((1 - e3)/e3)\n",
    "print('第三个弱分类器的权重是：',a3)\n",
    "# 更新样本权重\n",
    "w4 = w3*np.exp(-y*y_*a3)\n",
    "w4 = w4/w4.sum()\n",
    "\n",
    "print(w4)\n",
    "print(y_)\n",
    "print(y)"
   ]
  },
  {
   "cell_type": "code",
   "execution_count": 13,
   "metadata": {},
   "outputs": [
    {
     "name": "stdout",
     "output_type": "stream",
     "text": [
      "[ 0.3218626   0.3218626   0.3218626  -0.52543526 -0.52543526 -0.52543526\n",
      "  0.97742039  0.97742039  0.97742039 -0.3218626 ]\n",
      "[1, 1, 1, -1, -1, -1, 1, 1, 1, -1]\n",
      "[ 1  1  1 -1 -1 -1  1  1  1 -1]\n"
     ]
    }
   ],
   "source": [
    "# 第一个弱分类器的预测结果\n",
    "y1 = np.array([1]*3 + [-1]*(10-3))\n",
    "# 第二个弱分类器的预测结果\n",
    "y2 = np.array([1]*9 + [-1]*(10-9))\n",
    "# 第三个弱分类器的预测结果\n",
    "y3 = np.array([-1]*6 + [1]*(10-6))\n",
    "F =  a1*y1 + a2*y2 + a3*y3\n",
    "\n",
    "print(F)\n",
    "result = [-1 if i < 0 else 1 for i in F]\n",
    "print(result)\n",
    "print(y)"
   ]
  },
  {
   "cell_type": "code",
   "execution_count": 14,
   "metadata": {},
   "outputs": [
    {
     "data": {
      "text/plain": [
       "array([ 1,  1,  1, -1, -1, -1,  1,  1,  1, -1])"
      ]
     },
     "execution_count": 14,
     "metadata": {},
     "output_type": "execute_result"
    }
   ],
   "source": [
    "# 构建模型\n",
    "ada = AdaBoostClassifier(algorithm='SAMME',n_estimators=3)\n",
    "# 训练模型\n",
    "ada.fit(X,y)\n",
    "# 模型预测\n",
    "ada.predict(X)\n"
   ]
  },
  {
   "cell_type": "markdown",
   "metadata": {},
   "source": [
    "# 多分类"
   ]
  },
  {
   "cell_type": "code",
   "execution_count": 3,
   "metadata": {},
   "outputs": [
    {
     "data": {
      "text/plain": [
       "0.036543204373271125"
      ]
     },
     "execution_count": 3,
     "metadata": {},
     "output_type": "execute_result"
    }
   ],
   "source": [
    "import numpy as np\n",
    "np.exp(-0.65)*0.07"
   ]
  }
 ],
 "metadata": {
  "kernelspec": {
   "display_name": "bigdata",
   "language": "python",
   "name": "python3"
  },
  "language_info": {
   "codemirror_mode": {
    "name": "ipython",
    "version": 3
   },
   "file_extension": ".py",
   "mimetype": "text/x-python",
   "name": "python",
   "nbconvert_exporter": "python",
   "pygments_lexer": "ipython3",
   "version": "3.9.0"
  },
  "orig_nbformat": 4
 },
 "nbformat": 4,
 "nbformat_minor": 2
}
